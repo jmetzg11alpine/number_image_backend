{
 "cells": [
  {
   "cell_type": "markdown",
   "id": "715bbd9c",
   "metadata": {},
   "source": [
    "# Setup"
   ]
  },
  {
   "cell_type": "code",
   "execution_count": 52,
   "id": "52212534",
   "metadata": {},
   "outputs": [],
   "source": [
    "from tensorflow.keras.models import Sequential\n",
    "from tensorflow.keras import layers\n",
    "from tensorflow.keras.layers import Dense, Dropout, Conv2D\n",
    "from tensorflow import keras\n",
    "from keras.preprocessing import image\n",
    "import matplotlib.pyplot as plt\n",
    "import numpy as np\n",
    "import pandas as pd"
   ]
  },
  {
   "cell_type": "markdown",
   "id": "6cae3ae3",
   "metadata": {},
   "source": [
    "# Prepare the data"
   ]
  },
  {
   "cell_type": "code",
   "execution_count": 48,
   "id": "eb2f8803",
   "metadata": {},
   "outputs": [
    {
     "name": "stdout",
     "output_type": "stream",
     "text": [
      "x_train shape: (60000, 28, 28, 1)\n",
      "y_train shape: (60000,)\n",
      "60000 train samples\n",
      "10000 test samples\n"
     ]
    }
   ],
   "source": [
    "# model parameters\n",
    "num_classes = 10\n",
    "input_shape = (28, 28, 1)\n",
    "# load data\n",
    "(x_train, y_train), (x_test, y_test) = keras.datasets.mnist.load_data()\n",
    "\n",
    "#\n",
    "x_train = x_train.astype('float32')/255\n",
    "x_test = x_test.astype('float32')/255\n",
    "# Make sure images have shape (28, 28, 1)\n",
    "x_train = np.expand_dims(x_train, -1)\n",
    "x_test = np.expand_dims(x_test, -1)\n",
    "print('x_train shape:', x_train.shape)\n",
    "print('y_train shape:', y_train.shape)\n",
    "print(x_train.shape[0], 'train samples')\n",
    "print(y_test.shape[0], 'test samples')\n",
    "\n",
    "# # convert class vectors to binary class matrics\n",
    "# y_train = keras.utils.to_categorical(y_train, num_classes)\n",
    "# y_test = keras.utils.to_categorical(y_test, num_classes)\n",
    "\n",
    "# # build the model\n",
    "# model = keras.Sequential([keras.Input(shape=input_shape),\n",
    "#                         layers.Conv2D(32, kernel_size=(3,3), activation='relu'),\n",
    "#                         layers.MaxPooling2D(pool_size=(2,2)),\n",
    "#                         layers.Conv2D(64, kernel_size=(3,3), activation='relu'),\n",
    "#                         layers.Flatten(),\n",
    "#                         layers.Dropout(0.5),\n",
    "#                         layers.Dense(num_classes, activation='softmax')])\n",
    "# model.summary()\n",
    "\n",
    "# # train the model\n",
    "# batch_size = 128\n",
    "# epochs = 15\n",
    "# model.compile(loss='categorical_crossentropy', optimizer='adam', metrics=['accuracy'])\n",
    "# a = time.time()\n",
    "# model.fit(x_train, y_train, batch_size=batch_size, epochs=epochs, validation_split=0.1)\n",
    "# b = time.time()\n",
    "# print(f'took {b-a} to train')"
   ]
  },
  {
   "cell_type": "markdown",
   "id": "6e2dece4",
   "metadata": {},
   "source": [
    "# machinelearningmastery.com\n",
    "https://machinelearningmastery.com/tutorial-first-neural-network-python-keras/"
   ]
  },
  {
   "cell_type": "code",
   "execution_count": 29,
   "id": "920eeba3",
   "metadata": {},
   "outputs": [],
   "source": [
    "# dataset=np.loadtxt('pima-indians-diabetes.data.csv', delimiter=',')\n",
    "# X = dataset[:,0:8]\n",
    "# y = dataset[:,8]\n",
    "# print('shapes of x and y', X.shape, y.shape)\n",
    "# model = Sequential()\n",
    "# model.add(Dense(12, input_shape=(8,), activation='relu'))\n",
    "# model.add(Dense(8, activation='relu'))\n",
    "# model.add(Dense(1, activation='sigmoid'))\n",
    "# model.compile(loss='binary_crossentropy', optimizer='adam', metrics=['accuracy'])\n",
    "# model.fit(X, y, epochs=5, batch_size=10)\n",
    "# predictions = (model.predict(X) > 0.5).astype(int)"
   ]
  },
  {
   "cell_type": "markdown",
   "id": "e322c515",
   "metadata": {},
   "source": [
    "# Mymodel"
   ]
  },
  {
   "cell_type": "code",
   "execution_count": 29,
   "id": "5d4bb92f",
   "metadata": {},
   "outputs": [
    {
     "data": {
      "text/plain": [
       "{9: 150,\n",
       " 3: 150,\n",
       " 6: 150,\n",
       " 8: 150,\n",
       " 4: 150,\n",
       " 0: 150,\n",
       " 1: 150,\n",
       " 5: 150,\n",
       " 2: 150,\n",
       " 7: 150}"
      ]
     },
     "execution_count": 29,
     "metadata": {},
     "output_type": "execute_result"
    }
   ],
   "source": [
    "counter = {}\n",
    "for y in y_real_value:\n",
    "    if y in counter:\n",
    "        counter[y] += 1\n",
    "    else:\n",
    "        counter[y] = 1\n",
    "counter"
   ]
  },
  {
   "cell_type": "code",
   "execution_count": 45,
   "id": "2bb9a428",
   "metadata": {},
   "outputs": [
    {
     "data": {
      "text/plain": [
       "(1500, 28, 28)"
      ]
     },
     "execution_count": 45,
     "metadata": {},
     "output_type": "execute_result"
    }
   ],
   "source": [
    "X = np.array(X)\n",
    "X = X.reshape((-1, 28, 28))\n",
    "X.shape"
   ]
  },
  {
   "cell_type": "code",
   "execution_count": 28,
   "id": "4730e17e",
   "metadata": {},
   "outputs": [
    {
     "name": "stdout",
     "output_type": "stream",
     "text": [
      "shapes of x and y (1500, 784) (1500, 10)\n"
     ]
    }
   ],
   "source": [
    "training_data = pd.read_csv('./image_backend/training_data.csv')\n",
    "y_real_value = []\n",
    "X = []\n",
    "for i, row in training_data.iterrows():\n",
    "    y_real_value.append(int(row['y']))\n",
    "    x_row = row['X']\n",
    "    x_row = x_row.strip(\"[\")\n",
    "    x_row = x_row.strip(\"]\")\n",
    "    x_row = x_row.split(',')\n",
    "    x_row = [int(x) for x in x_row]\n",
    "    X.append(x_row)\n",
    "binary_y = []\n",
    "for y in y_real_value:\n",
    "    new_y = np.zeros(10)\n",
    "    new_y[y] = 1\n",
    "    binary_y.append(new_y)\n",
    "X = np.array(X)\n",
    "binary_y = np.array(binary_y)\n",
    "print('shapes of x and y', X.shape, binary_y.shape)"
   ]
  },
  {
   "cell_type": "code",
   "execution_count": 32,
   "id": "fdfe444f",
   "metadata": {
    "collapsed": true
   },
   "outputs": [
    {
     "name": "stdout",
     "output_type": "stream",
     "text": [
      "Epoch 1/15\n",
      "24/24 [==============================] - 0s 3ms/step - loss: 0.5471 - accuracy: 0.1080\n",
      "Epoch 2/15\n",
      "24/24 [==============================] - 0s 9ms/step - loss: 0.3330 - accuracy: 0.1793\n",
      "Epoch 3/15\n",
      "24/24 [==============================] - 0s 3ms/step - loss: 0.2531 - accuracy: 0.5933\n",
      "Epoch 4/15\n",
      "24/24 [==============================] - 0s 8ms/step - loss: 0.1862 - accuracy: 0.7473\n",
      "Epoch 5/15\n",
      "24/24 [==============================] - 0s 9ms/step - loss: 0.1329 - accuracy: 0.8367\n",
      "Epoch 6/15\n",
      "24/24 [==============================] - 0s 5ms/step - loss: 0.0960 - accuracy: 0.8893\n",
      "Epoch 7/15\n",
      "24/24 [==============================] - 0s 7ms/step - loss: 0.0699 - accuracy: 0.9240\n",
      "Epoch 8/15\n",
      "24/24 [==============================] - 0s 7ms/step - loss: 0.0520 - accuracy: 0.9413\n",
      "Epoch 9/15\n",
      "24/24 [==============================] - 0s 7ms/step - loss: 0.0389 - accuracy: 0.9580\n",
      "Epoch 10/15\n",
      "24/24 [==============================] - 0s 6ms/step - loss: 0.0300 - accuracy: 0.9687\n",
      "Epoch 11/15\n",
      "24/24 [==============================] - 0s 12ms/step - loss: 0.0227 - accuracy: 0.9807\n",
      "Epoch 12/15\n",
      "24/24 [==============================] - 0s 12ms/step - loss: 0.0175 - accuracy: 0.9880\n",
      "Epoch 13/15\n",
      "24/24 [==============================] - 0s 10ms/step - loss: 0.0136 - accuracy: 0.9920\n",
      "Epoch 14/15\n",
      "24/24 [==============================] - 0s 21ms/step - loss: 0.0107 - accuracy: 0.9947\n",
      "Epoch 15/15\n",
      "24/24 [==============================] - 0s 14ms/step - loss: 0.0085 - accuracy: 0.9967\n"
     ]
    }
   ],
   "source": [
    "# model = Sequential()\n",
    "# model.add(Dense(112, input_shape=(784,), activation='relu'))\n",
    "# model.add(Dense(56, activation='relu'))\n",
    "# model.add(Dense(28, activation='relu'))\n",
    "# model.add(Dense(10, activation='softmax'))\n",
    "# model.compile(loss='binary_crossentropy', optimizer='adam', metrics=['accuracy'])\n",
    "# model.fit(X, binary_y, epochs=15, batch_size=64)\n",
    "# model.save('image_backend/image_model.h5')"
   ]
  },
  {
   "cell_type": "markdown",
   "id": "2331af97",
   "metadata": {},
   "source": [
    "# Attempt 2 - This one is better"
   ]
  },
  {
   "cell_type": "code",
   "execution_count": 49,
   "id": "fbc81183",
   "metadata": {},
   "outputs": [
    {
     "name": "stdout",
     "output_type": "stream",
     "text": [
      "shapes of x and y (1500, 28, 28, 1) (1500, 10)\n"
     ]
    }
   ],
   "source": [
    "training_data = pd.read_csv('./image_backend/training_data.csv')\n",
    "y_real_value = []\n",
    "X = []\n",
    "for i, row in training_data.iterrows():\n",
    "    y_real_value.append(int(row['y']))\n",
    "    x_row = row['X']\n",
    "    x_row = x_row.strip(\"[\")\n",
    "    x_row = x_row.strip(\"]\")\n",
    "    x_row = x_row.split(',')\n",
    "    x_row = [int(x) for x in x_row]\n",
    "    X.append(x_row)\n",
    "X = np.array(X)\n",
    "X = X.reshape((-1, 28, 28))\n",
    "X = np.expand_dims(X, -1)\n",
    "binary_y = []\n",
    "for y in y_real_value:\n",
    "    new_y = np.zeros(10)\n",
    "    new_y[y] = 1\n",
    "    binary_y.append(new_y)\n",
    "X = np.array(X)\n",
    "binary_y = np.array(binary_y)\n",
    "print('shapes of x and y', X.shape, binary_y.shape)"
   ]
  },
  {
   "cell_type": "code",
   "execution_count": 57,
   "id": "0d1a3ae2",
   "metadata": {
    "scrolled": true
   },
   "outputs": [
    {
     "name": "stdout",
     "output_type": "stream",
     "text": [
      "Epoch 1/15\n",
      "22/22 [==============================] - 2s 88ms/step - loss: 1.5042 - accuracy: 0.5748 - val_loss: 0.7219 - val_accuracy: 0.7867\n",
      "Epoch 2/15\n",
      "22/22 [==============================] - 2s 80ms/step - loss: 0.5178 - accuracy: 0.8674 - val_loss: 0.3751 - val_accuracy: 0.8867\n",
      "Epoch 3/15\n",
      "22/22 [==============================] - 2s 73ms/step - loss: 0.3222 - accuracy: 0.9141 - val_loss: 0.2625 - val_accuracy: 0.9333\n",
      "Epoch 4/15\n",
      "22/22 [==============================] - 1s 47ms/step - loss: 0.2073 - accuracy: 0.9511 - val_loss: 0.2080 - val_accuracy: 0.9400\n",
      "Epoch 5/15\n",
      "22/22 [==============================] - 2s 87ms/step - loss: 0.1572 - accuracy: 0.9615 - val_loss: 0.1842 - val_accuracy: 0.9333\n",
      "Epoch 6/15\n",
      "22/22 [==============================] - 1s 33ms/step - loss: 0.1188 - accuracy: 0.9726 - val_loss: 0.1788 - val_accuracy: 0.9467\n",
      "Epoch 7/15\n",
      "22/22 [==============================] - 2s 85ms/step - loss: 0.1009 - accuracy: 0.9785 - val_loss: 0.1618 - val_accuracy: 0.9667\n",
      "Epoch 8/15\n",
      "22/22 [==============================] - 2s 77ms/step - loss: 0.0758 - accuracy: 0.9852 - val_loss: 0.1443 - val_accuracy: 0.9600\n",
      "Epoch 9/15\n",
      "22/22 [==============================] - 2s 84ms/step - loss: 0.0558 - accuracy: 0.9874 - val_loss: 0.1445 - val_accuracy: 0.9667\n",
      "Epoch 10/15\n",
      "22/22 [==============================] - 2s 71ms/step - loss: 0.0448 - accuracy: 0.9933 - val_loss: 0.1420 - val_accuracy: 0.9600\n",
      "Epoch 11/15\n",
      "22/22 [==============================] - 2s 74ms/step - loss: 0.0357 - accuracy: 0.9941 - val_loss: 0.1485 - val_accuracy: 0.9667\n",
      "Epoch 12/15\n",
      "22/22 [==============================] - 2s 74ms/step - loss: 0.0347 - accuracy: 0.9933 - val_loss: 0.1357 - val_accuracy: 0.9667\n",
      "Epoch 13/15\n",
      "22/22 [==============================] - 2s 69ms/step - loss: 0.0299 - accuracy: 0.9948 - val_loss: 0.1363 - val_accuracy: 0.9600\n",
      "Epoch 14/15\n",
      "22/22 [==============================] - 1s 65ms/step - loss: 0.0206 - accuracy: 0.9956 - val_loss: 0.1599 - val_accuracy: 0.9600\n",
      "Epoch 15/15\n",
      "22/22 [==============================] - 2s 73ms/step - loss: 0.0183 - accuracy: 0.9963 - val_loss: 0.1417 - val_accuracy: 0.9600\n"
     ]
    }
   ],
   "source": [
    "model = Sequential()\n",
    "model = keras.Sequential([keras.Input(shape=[28, 28, 1]),\n",
    "                        layers.Conv2D(32, kernel_size=(3,3), activation='relu'),\n",
    "#                         layers.MaxPooling2D(pool_size=(2,2)),\n",
    "                        layers.Conv2D(64, kernel_size=(3,3), activation='relu'),\n",
    "                        layers.Flatten(),\n",
    "                        layers.Dropout(0.5),\n",
    "                        layers.Dense(10, activation='softmax')])\n",
    "model.compile(loss='categorical_crossentropy', optimizer='adam', metrics=['accuracy'])\n",
    "model.fit(X, binary_y, batch_size=64, epochs=15, validation_split=0.1)\n",
    "# model.save('image_backend/image_model.h5')"
   ]
  }
 ],
 "metadata": {
  "kernelspec": {
   "display_name": "Python 3 (ipykernel)",
   "language": "python",
   "name": "python3"
  },
  "language_info": {
   "codemirror_mode": {
    "name": "ipython",
    "version": 3
   },
   "file_extension": ".py",
   "mimetype": "text/x-python",
   "name": "python",
   "nbconvert_exporter": "python",
   "pygments_lexer": "ipython3",
   "version": "3.10.8"
  }
 },
 "nbformat": 4,
 "nbformat_minor": 5
}
